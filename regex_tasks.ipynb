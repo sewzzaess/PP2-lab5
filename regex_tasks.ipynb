{
 "cells": [
  {
   "cell_type": "markdown",
   "id": "b801e8c1-5d2a-4948-a095-246e63dd8753",
   "metadata": {},
   "source": [
    "1. Match 'a' followed by zero or more 'b's"
   ]
  },
  {
   "cell_type": "code",
   "execution_count": 74,
   "id": "10545bf3-3cc3-429b-92cd-e6b27436baa7",
   "metadata": {},
   "outputs": [
    {
     "name": "stdin",
     "output_type": "stream",
     "text": [
      "Enter a string:  abbbbbbbbbb\n"
     ]
    },
    {
     "name": "stdout",
     "output_type": "stream",
     "text": [
      "True\n"
     ]
    }
   ],
   "source": [
    "import re\n",
    "\n",
    "def match_ab(string):\n",
    "    return bool(re.fullmatch(r\"ab*\", string))\n",
    "\n",
    "test_string = input(\"Enter a string: \")\n",
    "print(match_ab(test_string))"
   ]
  },
  {
   "cell_type": "markdown",
   "id": "afabfd5b-4a4f-4978-995d-228a6c8d1d4f",
   "metadata": {},
   "source": [
    "2. Match 'a' followed by two to three 'b's"
   ]
  },
  {
   "cell_type": "code",
   "execution_count": 78,
   "id": "3b612ae2-ae31-4fbf-bbbf-60f421a5d663",
   "metadata": {},
   "outputs": [
    {
     "name": "stdin",
     "output_type": "stream",
     "text": [
      "Enter a string:  abbb\n"
     ]
    },
    {
     "name": "stdout",
     "output_type": "stream",
     "text": [
      "True\n"
     ]
    }
   ],
   "source": [
    "def match_abbb(string):\n",
    "    return bool(re.fullmatch(r\"ab{2,3}\", string))\n",
    "\n",
    "test_string = input(\"Enter a string: \")\n",
    "print(match_abbb(test_string))"
   ]
  },
  {
   "cell_type": "markdown",
   "id": "4908a45d-ee38-4377-ae74-84ff8f6263ac",
   "metadata": {},
   "source": [
    "3. Find sequences of lowercase letters joined with an underscore"
   ]
  },
  {
   "cell_type": "code",
   "execution_count": 88,
   "id": "4a8353ae-796a-4256-abeb-1e410119051a",
   "metadata": {},
   "outputs": [
    {
     "name": "stdin",
     "output_type": "stream",
     "text": [
      "Enter a string:  hello_world hello_today\n"
     ]
    },
    {
     "name": "stdout",
     "output_type": "stream",
     "text": [
      "['hello_world', 'hello_today']\n"
     ]
    }
   ],
   "source": [
    "def find_underscore_words(text):\n",
    "    return re.findall(r\"\\b[a-z]+_[a-z]+\\b\", text)\n",
    "\n",
    "test_string = input(\"Enter a string: \")\n",
    "print(find_underscore_words(test_string))"
   ]
  },
  {
   "cell_type": "markdown",
   "id": "93123b96-0504-4966-8805-6604031f75fd",
   "metadata": {},
   "source": [
    "4. Find sequences of one uppercase letter followed by lowercase letters"
   ]
  },
  {
   "cell_type": "code",
   "execution_count": 86,
   "id": "b7e858f0-72a5-4adf-99be-06bcfdfa9082",
   "metadata": {},
   "outputs": [
    {
     "name": "stdin",
     "output_type": "stream",
     "text": [
      "Enter a string:  Hello World Lol\n"
     ]
    },
    {
     "name": "stdout",
     "output_type": "stream",
     "text": [
      "['Hello', 'World', 'Lol']\n"
     ]
    }
   ],
   "source": [
    "def find_upper_lower(text):\n",
    "    return re.findall(r\"[A-Z][a-z]+\", text)\n",
    "\n",
    "test_string = input(\"Enter a string: \")\n",
    "print(find_upper_lower(test_string))"
   ]
  },
  {
   "cell_type": "markdown",
   "id": "81446917-8c3c-4c3b-b7fc-9994fbc66b28",
   "metadata": {},
   "source": [
    "5. Match 'a' followed by anything, ending in 'b'"
   ]
  },
  {
   "cell_type": "code",
   "execution_count": 92,
   "id": "759159d2-069d-4d0a-9dda-39604d512003",
   "metadata": {},
   "outputs": [
    {
     "name": "stdin",
     "output_type": "stream",
     "text": [
      "Enter a string:  astanahub\n"
     ]
    },
    {
     "name": "stdout",
     "output_type": "stream",
     "text": [
      "True\n"
     ]
    }
   ],
   "source": [
    "def match_a_any_b(string):\n",
    "    return bool(re.fullmatch(r\"a.*b\", string))\n",
    "\n",
    "test_string = input(\"Enter a string: \")\n",
    "print(match_a_any_b(test_string))"
   ]
  },
  {
   "cell_type": "markdown",
   "id": "32c42ca4-45e0-45ef-9c26-ccda6f3e7e10",
   "metadata": {},
   "source": [
    "6.Replace all occurrences of space, comma, or dot with a colon"
   ]
  },
  {
   "cell_type": "code",
   "execution_count": 25,
   "id": "be0a5991-c1bb-4d95-9a92-9b8a32d08b8f",
   "metadata": {},
   "outputs": [
    {
     "name": "stdin",
     "output_type": "stream",
     "text": [
      "Enter a string:  Sorry, we are late.\n"
     ]
    },
    {
     "name": "stdout",
     "output_type": "stream",
     "text": [
      "Sorry::we:are:late:\n"
     ]
    }
   ],
   "source": [
    "def replace_delimiters(text):\n",
    "    return re.sub(r\"[ ,.]\", \":\", text)\n",
    "\n",
    "test_string = input(\"Enter a string: \")\n",
    "print(replace_delimiters(test_string))"
   ]
  },
  {
   "cell_type": "markdown",
   "id": "9ef9bd19-bc52-4817-ae18-684b8a690e7a",
   "metadata": {},
   "source": [
    "7. Convert a snake_case string to camelCase"
   ]
  },
  {
   "cell_type": "code",
   "execution_count": 21,
   "id": "a11aac01-5155-4f06-889b-cd8ab4b94876",
   "metadata": {},
   "outputs": [
    {
     "name": "stdin",
     "output_type": "stream",
     "text": [
      "Enter a snake_case string:  they_are_here\n"
     ]
    },
    {
     "name": "stdout",
     "output_type": "stream",
     "text": [
      "theyAreHere\n"
     ]
    }
   ],
   "source": [
    "def snake_to_camel(text):\n",
    "    words = text.split(\"_\")\n",
    "    return words[0] + \"\".join(word.capitalize() for word in words[1:])\n",
    "\n",
    "test_string = input(\"Enter a snake_case string: \")\n",
    "print(snake_to_camel(test_string))"
   ]
  },
  {
   "cell_type": "markdown",
   "id": "e68cd552-2a87-4682-86f8-811202e55bce",
   "metadata": {},
   "source": [
    "8. Split a string at uppercase letters"
   ]
  },
  {
   "cell_type": "code",
   "execution_count": 18,
   "id": "1777ca2f-92da-464e-aeac-907552c24033",
   "metadata": {},
   "outputs": [
    {
     "name": "stdin",
     "output_type": "stream",
     "text": [
      "Enter a string:  OneTwoThreeFour\n"
     ]
    },
    {
     "name": "stdout",
     "output_type": "stream",
     "text": [
      "['', 'One', 'Two', 'Three', 'Four']\n"
     ]
    }
   ],
   "source": [
    "def split_at_uppercase(text):\n",
    "    return re.split(r\"(?=[A-Z])\", text)\n",
    "\n",
    "test_string = input(\"Enter a string: \")\n",
    "print(split_at_uppercase(test_string))"
   ]
  },
  {
   "cell_type": "markdown",
   "id": "81884c5a-7adf-43d1-8466-aafd8e16f2f5",
   "metadata": {},
   "source": [
    "9. Insert spaces between words starting with capital letters"
   ]
  },
  {
   "cell_type": "code",
   "execution_count": 13,
   "id": "e434434d-115b-4c82-8168-54ed4795dce8",
   "metadata": {},
   "outputs": [
    {
     "name": "stdin",
     "output_type": "stream",
     "text": [
      "Enter a string:  ThankYouForComing\n"
     ]
    },
    {
     "name": "stdout",
     "output_type": "stream",
     "text": [
      "Thank You For Coming\n"
     ]
    }
   ],
   "source": [
    "def insert_spaces(text):\n",
    "    return re.sub(r\"([A-Z])\", r\" \\1\", text).strip()\n",
    "\n",
    "test_string = input(\"Enter a string: \")\n",
    "print(insert_spaces(test_string))"
   ]
  },
  {
   "cell_type": "markdown",
   "id": "86e99459-0c0a-4ae5-8f52-f3565fa77565",
   "metadata": {},
   "source": [
    "10. Convert a camelCase string to snake_case"
   ]
  },
  {
   "cell_type": "code",
   "execution_count": 9,
   "id": "7f23c3f3-8d29-49fc-9e73-44639a2823f7",
   "metadata": {},
   "outputs": [
    {
     "name": "stdin",
     "output_type": "stream",
     "text": [
      "Enter a camelCase string:  helloWorldToday\n"
     ]
    },
    {
     "name": "stdout",
     "output_type": "stream",
     "text": [
      "hello_world_today\n"
     ]
    }
   ],
   "source": [
    "def camel_to_snake(text):\n",
    "    return re.sub(r\"([a-z])([A-Z])\", r\"\\1_\\2\", text).lower()\n",
    "\n",
    "test_string = input(\"Enter a camelCase string: \")\n",
    "print(camel_to_snake(test_string))"
   ]
  }
 ],
 "metadata": {
  "kernelspec": {
   "display_name": "Python [conda env:base] *",
   "language": "python",
   "name": "conda-base-py"
  },
  "language_info": {
   "codemirror_mode": {
    "name": "ipython",
    "version": 3
   },
   "file_extension": ".py",
   "mimetype": "text/x-python",
   "name": "python",
   "nbconvert_exporter": "python",
   "pygments_lexer": "ipython3",
   "version": "3.12.7"
  }
 },
 "nbformat": 4,
 "nbformat_minor": 5
}
